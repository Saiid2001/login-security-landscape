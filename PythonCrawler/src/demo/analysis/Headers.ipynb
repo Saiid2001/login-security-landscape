{
 "cells": [
  {
   "cell_type": "markdown",
   "id": "cf8fcfab-a46c-44dc-905d-ef08c411b72e",
   "metadata": {},
   "source": [
    "# Headers Experiment Demo Analysis"
   ]
  },
  {
   "cell_type": "markdown",
   "id": "3ed95560",
   "metadata": {},
   "source": [
    "## Warning\n",
    "\n",
    "The experiment in the demonstration mode is run without setting up the account framework and registering accounts. Thus, the experiments will run in logged-out mode twice as the sessions are not valid. Still, this can be used to see how the experiments can be ran and what data the experiments produce."
   ]
  },
  {
   "cell_type": "code",
   "execution_count": null,
   "id": "58718213-5ba0-4489-9b1f-435da58b088e",
   "metadata": {},
   "outputs": [],
   "source": [
    "%load_ext autoreload\n",
    "%autoreload 2"
   ]
  },
  {
   "cell_type": "markdown",
   "id": "5fde3227-a97b-4e3b-80ce-9bc906a1ee9b",
   "metadata": {},
   "source": [
    "## General Analysis"
   ]
  },
  {
   "cell_type": "code",
   "execution_count": null,
   "id": "4a3fc066-9449-4973-a2d6-e5fda70dc2df",
   "metadata": {},
   "outputs": [],
   "source": [
    "# imports\n",
    "from database import Task, URL\n",
    "import matplotlib.pyplot as plt\n",
    "import pandas as pd\n",
    "from IPython.display import display, HTML"
   ]
  },
  {
   "cell_type": "code",
   "execution_count": null,
   "id": "26b03463-08a8-4400-a6d8-99936e1f5abe",
   "metadata": {},
   "outputs": [],
   "source": [
    "# Select data from db\n",
    "tasks = Task.select().where(Task.job == \"demoheaders\")\n",
    "urls = URL.select().where(URL.job == \"demoheaders\")\n",
    "\n",
    "# Transform to dataframes\n",
    "tasks = pd.DataFrame(list(tasks.dicts()))\n",
    "urls = pd.DataFrame(list(urls.dicts()))\n",
    "\n",
    "# Update note for login\n",
    "urls['note'] = pd.merge(urls, tasks, left_on='task', right_on='id', how='left')['note_y']\n",
    "\n",
    "# Show tasks table\n",
    "display(tasks)"
   ]
  },
  {
   "cell_type": "code",
   "execution_count": null,
   "id": "487433c7-8260-4382-8495-d265b5355bb5",
   "metadata": {},
   "outputs": [],
   "source": [
    "# Display how many URLs were crawled in each state\n",
    "\n",
    "display(urls.groupby(['code', 'note'])[['id']].count())"
   ]
  },
  {
   "cell_type": "markdown",
   "id": "c841b7e2-9ddf-4845-8a73-9f622f350e53",
   "metadata": {},
   "source": [
    "## Header Analysis"
   ]
  },
  {
   "cell_type": "code",
   "execution_count": null,
   "id": "a90578fd-4ea9-40ec-9644-60636bb765a1",
   "metadata": {},
   "outputs": [],
   "source": [
    "# imports\n",
    "from modules.headersexperiment import Header\n",
    "import tld\n",
    "import ast"
   ]
  },
  {
   "cell_type": "code",
   "execution_count": null,
   "id": "06b8b3f0-cefd-4257-9095-4694f7e6324a",
   "metadata": {},
   "outputs": [],
   "source": [
    "# Select headers of main pages\n",
    "headers = Header.select().where(Header.job == \"demoheaders\", Header.resource == \"document\", Header.mainframe == True)\n",
    "\n",
    "# Transform to dataframe\n",
    "headers = pd.DataFrame(list(headers.dicts()))\n",
    "\n",
    "# Update headers fromurl\n",
    "headers['fromurl'] = pd.merge(headers, urls, left_on='fromurl', right_on='id', how='left')['urlfinal']"
   ]
  },
  {
   "cell_type": "code",
   "execution_count": null,
   "id": "8f13bf1a-175b-4e4f-9a5c-a8e32a2e2684",
   "metadata": {},
   "outputs": [],
   "source": [
    "# Get those rows which originated from and went to the same site\n",
    "\n",
    "def is_same_site(row):\n",
    "    try:\n",
    "        from_site = tld.get_tld(row['fromurl'], as_object=True).fld\n",
    "        to_site = tld.get_tld(row['tourlfinal'], as_object=True).fld\n",
    "    except Exception:\n",
    "        return False\n",
    "    \n",
    "    return (row['site'] == from_site) & (row['site'] == to_site)\n",
    "\n",
    "headers_ss = headers[headers.apply(is_same_site, axis=1)]"
   ]
  },
  {
   "cell_type": "code",
   "execution_count": null,
   "id": "c74d5971-13b8-4297-90c9-3cbc2b95142f",
   "metadata": {},
   "outputs": [],
   "source": [
    "# Transform desired headers into columns\n",
    "\n",
    "def get_considered_headers(headers):\n",
    "    result = {}\n",
    "    for item in headers:\n",
    "        name = item['name'].lower()\n",
    "        value = item['value'].strip()  # No stripping of whitespace?\n",
    "        if name in result:\n",
    "            result[name].append(value)\n",
    "        else:\n",
    "            result[name] = [value]\n",
    "\n",
    "    hsts = result.get('strict-transport-security', None)\n",
    "    hsts = ','.join(hsts) if hsts else hsts\n",
    "\n",
    "    xfo = result.get('x-frame-options', None)\n",
    "    xfo = ','.join(xfo) if xfo else xfo\n",
    "\n",
    "    return pd.Series({'strict-transport-security': hsts, 'x-frame-options': xfo})\n",
    "\n",
    "# Unpack headers str list to objects\n",
    "headers_parsed = headers_ss[\"headers\"].apply(lambda x: ast.literal_eval(x)).apply(get_considered_headers)\n",
    "headers_parsed = pd.concat([headers_ss, headers_parsed], axis=1)"
   ]
  },
  {
   "cell_type": "code",
   "execution_count": null,
   "id": "3f956480-9178-4c68-9490-e182a08fd32c",
   "metadata": {},
   "outputs": [],
   "source": [
    "# Group the HSTS header by site, state, code, and value. Then display the count of the header value for each grouping.\n",
    "\n",
    "display(pd.DataFrame(headers_parsed.groupby(['site', 'note', 'code', 'strict-transport-security'], dropna=False)[['strict-transport-security']].value_counts(dropna=False)))"
   ]
  },
  {
   "cell_type": "code",
   "execution_count": null,
   "id": "3de42768-b19d-4c35-918e-44046b5ea32e",
   "metadata": {},
   "outputs": [],
   "source": []
  }
 ],
 "metadata": {
  "kernelspec": {
   "display_name": "Python 3 (ipykernel)",
   "language": "python",
   "name": "python3"
  },
  "language_info": {
   "codemirror_mode": {
    "name": "ipython",
    "version": 3
   },
   "file_extension": ".py",
   "mimetype": "text/x-python",
   "name": "python",
   "nbconvert_exporter": "python",
   "pygments_lexer": "ipython3",
   "version": "3.10.12"
  }
 },
 "nbformat": 4,
 "nbformat_minor": 5
}
