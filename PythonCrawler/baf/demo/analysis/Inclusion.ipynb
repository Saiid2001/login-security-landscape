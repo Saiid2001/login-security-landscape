{
 "cells": [
  {
   "cell_type": "markdown",
   "id": "cf8fcfab-a46c-44dc-905d-ef08c411b72e",
   "metadata": {},
   "source": [
    "# JavaScript Inclusion Issues experiment Demo Analysis"
   ]
  },
  {
   "cell_type": "markdown",
   "id": "5fde3227-a97b-4e3b-80ce-9bc906a1ee9b",
   "metadata": {},
   "source": [
    "## General Analysis"
   ]
  },
  {
   "cell_type": "code",
   "execution_count": null,
   "id": "4a3fc066-9449-4973-a2d6-e5fda70dc2df",
   "metadata": {},
   "outputs": [],
   "source": [
    "# imports\n",
    "from database import Task, URL\n",
    "import matplotlib.pyplot as plt\n",
    "import pandas\n",
    "from IPython.display import display, HTML"
   ]
  },
  {
   "cell_type": "code",
   "execution_count": null,
   "id": "26b03463-08a8-4400-a6d8-99936e1f5abe",
   "metadata": {},
   "outputs": [],
   "source": [
    "# some filtering\n",
    "task = Task.select().where(Task.job == \"demoinclusions\")\n",
    "url = URL.select().join(Task).where(URL.task.job == \"demoinclusions\")"
   ]
  },
  {
   "cell_type": "code",
   "execution_count": null,
   "id": "885d5761-ef57-47da-9321-c9821ae02154",
   "metadata": {},
   "outputs": [],
   "source": [
    "# general statistics\n",
    "general_stats = pandas.DataFrame.from_dict({\n",
    "    \"\": [\"with session\", \"without session\", \"total\"],\n",
    "    \"crawled sites\":  [task.where(Task.session != None).count(), task.where(Task.session == None).count(), task.count()],\n",
    "    \"crawled urls\": [url.where(Task.session != None).count(), url.where(Task.session == None).count(), url.count()],\n",
    "})\n",
    "display(HTML(general_stats.to_html(index=False)))"
   ]
  },
  {
   "cell_type": "markdown",
   "id": "c841b7e2-9ddf-4845-8a73-9f622f350e53",
   "metadata": {},
   "source": [
    "## Inclusion Issues Analysis"
   ]
  },
  {
   "cell_type": "code",
   "execution_count": null,
   "id": "a90578fd-4ea9-40ec-9644-60636bb765a1",
   "metadata": {},
   "outputs": [],
   "source": [
    "# imports\n",
    "from database import Task, URL\n",
    "from modules.inclusionissues import Script, ScriptInclusion\n",
    "import matplotlib.pyplot as plt\n",
    "import pandas\n",
    "from IPython.display import display, HTML\n",
    "from peewee import fn"
   ]
  },
  {
   "cell_type": "code",
   "execution_count": null,
   "id": "06b8b3f0-cefd-4257-9095-4694f7e6324a",
   "metadata": {},
   "outputs": [],
   "source": [
    "# some filtering\n",
    "task = Task.select().where(Task.job == \"demoinclusions\")\n",
    "url = URL.select().join(Task).where(URL.task.job == \"demoinclusions\")\n",
    "script = Script.select()\n",
    "def inclusion(*x):\n",
    "    return ScriptInclusion.select(*x).join(Script).switch(ScriptInclusion).join(Task)"
   ]
  },
  {
   "cell_type": "code",
   "execution_count": null,
   "id": "4da76792-66b8-48ea-b68f-31d536787170",
   "metadata": {},
   "outputs": [],
   "source": [
    "# general statistics for the experiment\n",
    "general_stats = pandas.DataFrame.from_dict({\n",
    "    \"\": [\"with session\", \"without session\", \"total\"],\n",
    "    \"unique scripts\":  [\n",
    "        inclusion(tuple([fn.Count(Script.id)])).group_by([Script.id]).where(Task.session != None).count(),\n",
    "        inclusion(tuple([fn.Count(Script.id)])).group_by([Script.id]).where(Task.session == None).count(),\n",
    "        inclusion(tuple([fn.Count(Script.id)])).group_by([Script.id]).count()\n",
    "    ],\n",
    "    \"script inclusions\": [\n",
    "        inclusion().where(Task.session != None).count(),\n",
    "        inclusion().where(Task.session == None).count(),\n",
    "        inclusion().count()\n",
    "    ],\n",
    "    \"dynamic/inclusion\": [\n",
    "        inclusion().where(ScriptInclusion.inclusion_type == \"dynamic/inclusion\").where(Task.session != None).count(),\n",
    "        inclusion().where(ScriptInclusion.inclusion_type == \"dynamic/inclusion\").where(Task.session == None).count(),\n",
    "        inclusion().where(ScriptInclusion.inclusion_type == \"dynamic/inclusion\").count()\n",
    "    ],\n",
    "    \"eval\": [\n",
    "        inclusion().where(ScriptInclusion.inclusion_type == \"eval\").where(Task.session != None).count(),\n",
    "        inclusion().where(ScriptInclusion.inclusion_type == \"eval\").where(Task.session == None).count(),\n",
    "        inclusion().where(ScriptInclusion.inclusion_type == \"eval\").count()\n",
    "    ],\n",
    "    \"inclusion\": [\n",
    "        inclusion().where(ScriptInclusion.inclusion_type == \"inclusion\").where(Task.session != None).count(),\n",
    "        inclusion().where(ScriptInclusion.inclusion_type == \"inclusion\").where(Task.session == None).count(),\n",
    "        inclusion().where(ScriptInclusion.inclusion_type == \"inclusion\").count()\n",
    "    ],\n",
    "    \"inline-script\": [\n",
    "        inclusion().where(ScriptInclusion.inclusion_type == \"inline-script\").where(Task.session != None).count(),\n",
    "        inclusion().where(ScriptInclusion.inclusion_type == \"inline-script\").where(Task.session == None).count(),\n",
    "        inclusion().where(ScriptInclusion.inclusion_type == \"inline-script\").count()\n",
    "    ]\n",
    "})\n",
    "display(HTML(general_stats.to_html(index=False)))"
   ]
  },
  {
   "cell_type": "code",
   "execution_count": null,
   "id": "8f13bf1a-175b-4e4f-9a5c-a8e32a2e2684",
   "metadata": {},
   "outputs": [],
   "source": []
  }
 ],
 "metadata": {
  "kernelspec": {
   "display_name": "Python 3 (ipykernel)",
   "language": "python",
   "name": "python3"
  },
  "language_info": {
   "codemirror_mode": {
    "name": "ipython",
    "version": 3
   },
   "file_extension": ".py",
   "mimetype": "text/x-python",
   "name": "python",
   "nbconvert_exporter": "python",
   "pygments_lexer": "ipython3",
   "version": "3.10.12"
  }
 },
 "nbformat": 4,
 "nbformat_minor": 5
}
